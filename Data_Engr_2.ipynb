{
  "nbformat": 4,
  "nbformat_minor": 0,
  "metadata": {
    "colab": {
      "private_outputs": true,
      "provenance": [],
      "authorship_tag": "ABX9TyNsYCe3yPjctBpPZKBUwHT5",
      "include_colab_link": true
    },
    "kernelspec": {
      "name": "python3",
      "display_name": "Python 3"
    },
    "language_info": {
      "name": "python"
    }
  },
  "cells": [
    {
      "cell_type": "markdown",
      "metadata": {
        "id": "view-in-github",
        "colab_type": "text"
      },
      "source": [
        "<a href=\"https://colab.research.google.com/github/annesjyu/tifp2024/blob/main/Data_Engr_2.ipynb\" target=\"_parent\"><img src=\"https://colab.research.google.com/assets/colab-badge.svg\" alt=\"Open In Colab\"/></a>"
      ]
    },
    {
      "cell_type": "markdown",
      "source": [
        "# 2. Working in POXIS Environments\n",
        "\n"
      ],
      "metadata": {
        "id": "EzhlXW7w4zWK"
      }
    },
    {
      "cell_type": "markdown",
      "source": [
        "## 2.1 POXIS\n",
        "\n",
        "POSIX (Portable Operating System Interface) is an IEEE 1003.1 standard that defines the language interface between application programs (along with command line shells and utility interfaces) and the UNIX operating systems. It was created to standardize the functionality and behaviour of Unix-like operating systems. It specifies APIs (Application Programming Interfaces) for various components, including file I/O, process management, inter-process communication, and more. POSIX compliance ensures that software written to the POSIX standards can be executed across different Unix-like systems without major modifications or compatibility issues.\n",
        "\n",
        "### UNIX\n",
        "\n",
        "UNIX is an operating system which was first developed in the 1960s. An operating system can be thought of as a collection of programs that make the computer work. It is a *stable*, *multi-user*, *multi-tasking* system for servers, desktops and laptops. UNIX systems also have a Graphical User Interface (GUI) similar to Microsoft Windows which provides an easy to use environment. However, knowledge of UNIX is required for operations which aren't covered by a graphical program, or for when there is no GUI available, for example, a telnet session.\n",
        "\n",
        "#### Types\n",
        "\n",
        "There are many different versions of UNIX, although they share common similarities. The most popular varieties of UNIX are Sun Solaris, GNU/Linux, and MacOS X.\n",
        "\n",
        "### Linux\n",
        "\n",
        "Linux, on the other hand, is a free and open-source operating system kernel that was created by Linus Torvalds in 1991. Linux was developed as a Unix-like system, inspired by Minix and older Unix branches. Unlike Unix, Linux is not a single operating system but rather a kernel that can be combined with various software packages to create complete operating systems called distributions. These distributions, such as Ubuntu, include the Linux kernel and additional software to provide a complete computing environment. It is under GPL license.\n",
        "\n",
        "### Architecture\n",
        "\n",
        "The UNIX / Linux operating system is made up of three parts; the **kernel**, the **shell** and the **Application**.\n",
        "\n",
        "* **Kernel** is the hub of the operating system which allocates resources to programs and handles the file storage and communications in response to system calls.\n",
        "* **Shell** acts as an interface between the user and the kernel. When a user logs in, the login program verifies the username and password, and starts another program called the shell. The shell is a command line interpreter (CLI). It interprets the commands the user types in and arranges for them to be carried out. The commands are themselves programs: when they terminate, the shell gives the user another prompt.\n",
        "* **Application** layer runs many user and background processes. A process is an executing program identified by a unique PID (process identifier).\n",
        "\n",
        "### Ubuntu\n",
        "\n",
        "Ubuntu is a Linux-based operating system distribution. It was created by Canonical Ltd. and released in 2004 with the goal of making Linux more accessible to a wider range of users. Ubuntu builds upon user-friendly interfaces, and software ecosystem. It aims to provide a complete and polished user experience, focusing on ease of use, regular releases, and a large community of users and developers. Ubuntu also uses the APT package management system and offers a wide variety of software applications through its repositories. It is known for its strong focus on desktop usability but also has versions tailored for servers, cloud environments, and other specialized use cases."
      ],
      "metadata": {
        "id": "UgG35Rcs0VDS"
      }
    },
    {
      "cell_type": "markdown",
      "source": [
        "### Files and Processes\n",
        "\n",
        "Everything in UNIX is either a **file** or a **process**. A file is a collection of data and are created by users using text editors, running compilers and so on. A process is simply an executing program as mentioned previously.\n",
        "\n",
        "Examples of files:\n",
        "\n",
        "- A document (report, essay etc.).\n",
        "- The text of a program written in some high-level programming language.\n",
        "- Instructions comprehensible to the machine and incomprehensible to users, for example, a collection of binary digits (an executable or binary file).\n",
        "- A directory, containing information about its contents, which may be a mixture of other sub-directories and ordinary files."
      ],
      "metadata": {
        "id": "t7-PzMRNx15Y"
      }
    },
    {
      "cell_type": "markdown",
      "source": [
        "### The Directory Structure\n",
        "\n",
        "All files are grouped together in the directory structure. The file-system is arranged in a *hierarchical* structure, like a tree data structure. The top of the hierarchy is known as **root** (written as a forward slash `/` )."
      ],
      "metadata": {
        "id": "WoevouBh1C-b"
      }
    },
    {
      "cell_type": "code",
      "source": [
        "!ls -la /"
      ],
      "metadata": {
        "id": "mLKTw-851Knm"
      },
      "execution_count": null,
      "outputs": []
    },
    {
      "cell_type": "code",
      "source": [
        "!sudo apt-get install tree"
      ],
      "metadata": {
        "id": "QeMOdCSs1vvI"
      },
      "execution_count": null,
      "outputs": []
    },
    {
      "cell_type": "code",
      "source": [
        "!tree -L 2 /"
      ],
      "metadata": {
        "id": "8k2TeAW12Jnx"
      },
      "execution_count": null,
      "outputs": []
    },
    {
      "cell_type": "markdown",
      "source": [
        "Note:\n",
        "1. The full path to `config.gz` is /proc/config.gz, within which `proc` is the intermediate directory (or dir).\n",
        "\n",
        "2. Linux adheres to the **Filesystem Hierarchy Standard** (FHS) for directory and file naming. This standard allows users and software programs to predict the location of files and directories. The root level directory is represented by the forward slash `/`. At the root level, systems could include these directories:\n",
        "\n",
        "| Directories | Description                                                  |\n",
        "| :---------: | :----------------------------------------------------------- |\n",
        "|      /      | Root Directory: the highest level of the file system tree    |\n",
        "|    /bin     | Contains essential executable programs (/bin/cat, /bin/rm, /bin/cp) |\n",
        "|    /boot    | Boot Directory: Holds essential files to boot the system such as  the Linux kernel and associated configuration files. It contains static files of boot loader GRUB (GRand Unified Bootloader) |\n",
        "|    /dev     | Populated with files that represent hardware devices and other special files such as the /dev/null and /dev/zero files. |\n",
        "|    /etc     | Holds configuration files of the Linux system  (/etc/inittab, /etc/group, /etc/hosts) |\n",
        "|    /home    | User Directory: User’s workspace to work with files          |\n",
        "|    /lib     | Libraries Directory: Contains libraries that are used by programs in the /bin and /sbin directories |\n",
        "|   /media    | Mountpoints for Removable Media                              |\n",
        "|    /mnt     | Mountpoint for Temporarily Mounted File System               |\n",
        "|    /opt     | Application Directory: Stores installed programs (/opt/GNOME). Optional third party software installation location |\n",
        "|    /proc    | A  virtual filesystem for the kernel to report processes and other information. |\n",
        "|    /root    | Home Directory of the Administrator (root user)              |\n",
        "|    /sbin    | System Binaries: Contains important system binaries (programs) for administration (/sbin/fdisk) |\n",
        "|    /srv     | Data Directories for Services (/srv/ftp)                     |\n",
        "|    /sys     | System Information Directory: A virtual  filesystem holding information about hardware devices connected to the system. |\n",
        "|    /tmp     | Temporary Area: Directory where programs create temporary files that is supposed to clear at boot  time. |\n",
        "|    /usr     | Second hierarchy of non-essential files for multi-user use and takes up the most space. Contains all user programs (`/usr/bin`), libraries (`/usr/lib`), documentation (`/usr/share/doc`) and so on. |\n",
        "|    /var     | Variable Files: It contains files that can be modified while the system is running |"
      ],
      "metadata": {
        "id": "6LEJKHm72sHb"
      }
    },
    {
      "cell_type": "markdown",
      "source": [
        "`/dev/null` is a special file in Unix-like operating systems that serves as a \"null device\" or a bit bucket. It is commonly used to discard or redirect unwanted output, or to provide an empty file for input."
      ],
      "metadata": {
        "id": "vxQ1nlj-32zE"
      }
    },
    {
      "cell_type": "code",
      "source": [
        "!find / -name \"config.gz\""
      ],
      "metadata": {
        "id": "ny0ubBLE35VR"
      },
      "execution_count": null,
      "outputs": []
    },
    {
      "cell_type": "code",
      "source": [
        "!find / -name \"config.gz\" 2> /dev/null"
      ],
      "metadata": {
        "id": "F_lAU0XA4MXk"
      },
      "execution_count": null,
      "outputs": []
    },
    {
      "cell_type": "markdown",
      "source": [
        "## 2.2 UNIX Commands\n",
        "\n",
        "We will launch a terminal and interact with the shell with the following commands to familiarize ourselves with the terminal environment. The language that the terminal uses is known as <u>bash</u>. Bash is a Unix shell and command language written by Brian Fox for the GNU Project and has been used as the default login shell for most Linux distributions. You can check the current shell with `echo $SHELL`."
      ],
      "metadata": {
        "id": "lIOB6YpM4n_s"
      }
    },
    {
      "cell_type": "code",
      "source": [
        "!echo $SHELL"
      ],
      "metadata": {
        "id": "OUsh9b1R5Fjy"
      },
      "execution_count": null,
      "outputs": []
    },
    {
      "cell_type": "markdown",
      "source": [
        "| Command     | Description                                                  |\n",
        "| :---------- | :----------------------------------------------------------- |\n",
        "| ```ls```    | list files in a directory.                                   |\n",
        "| ```mkdir``` | make a directory.                                            |\n",
        "| ```cd```    | change to a new directory.                                   |\n",
        "| ```pwd```   | show working directory.                                      |\n",
        "| ```touch``` | create a file, change a timestsamp.                          |\n",
        "| ```cp```    | copy a new file from an old file.                            |\n",
        "| ```mv```    | move file to a new directory.                                |\n",
        "| ```rm```    | delete a file.                                               |\n",
        "| ```rmdir``` | delete a directory.                                          |\n",
        "| ```clear``` | clear all text from current screen.                          |\n",
        "| ```cat```   | display the content of a file.                               |\n",
        "| ```less```  | display the content of a file onto the screen a page at a time. |\n",
        "| ```head```  | show the first ten lines of a file.                          |\n",
        "| ```tail```  | show the last ten lines of a file.                           |\n",
        "| ```grep```  | search a term in a file.                                     |\n",
        "| ```wc```    | count the words in a file.                                   |\n",
        "| ```diff```  | diff two files.                                              |"
      ],
      "metadata": {
        "id": "yia6gJh65NXE"
      }
    },
    {
      "cell_type": "markdown",
      "source": [
        "### A bash example"
      ],
      "metadata": {
        "id": "t3Y-q8rK5bjW"
      }
    },
    {
      "cell_type": "code",
      "source": [
        "!whoami"
      ],
      "metadata": {
        "id": "bzQJuSQizgts"
      },
      "execution_count": null,
      "outputs": []
    },
    {
      "cell_type": "code",
      "source": [
        "%%bash\n",
        "\n",
        "### Shebang for Bash Scripts. The shebang line allows the operating system to determine the appropriate interpreter for executing the script.\n",
        "#!/bin/bash\n",
        "# Or #!/usr/bin/env bash\n",
        "\n",
        "# This is a simple script that greets the user\n",
        "\n",
        "echo \"Hello, $(whoami). Welcome to the shell scripting world.\""
      ],
      "metadata": {
        "id": "DXHcrkiC5hJW"
      },
      "execution_count": null,
      "outputs": []
    },
    {
      "cell_type": "markdown",
      "source": [
        "## 2.3 File System Security\n",
        "\n",
        "These are the file system security components to control access to files in a Linux file system:\n",
        "\n",
        "| Element     | Description                                                  |\n",
        "| ----------- | :----------------------------------------------------------- |\n",
        "| Users       | Users are **individual accounts** on the Linux system.       |\n",
        "| Groups      | Groups are **collections of users**. Users are assigned to a group when they are created. Every user must belong to at least one group. Only **root** / the **owner** of a file can change the group to which the file or directory is assigned. |\n",
        "| Ownership   | The user who creates a file or directory. Ownership can only be changed by **root** user. |\n",
        "| Permissions | Permissions determine user **access** to a file or directory. |\n",
        "\n",
        "The `id` command displays information about a user’s UID and which group the user is assigned to. Similarly the `groups` command displays the name of the group."
      ],
      "metadata": {
        "id": "elsEolIl5wBN"
      }
    },
    {
      "cell_type": "code",
      "source": [
        "!id $USER"
      ],
      "metadata": {
        "id": "h85yNmGU5xBv"
      },
      "execution_count": null,
      "outputs": []
    },
    {
      "cell_type": "markdown",
      "source": [
        "Show group information,"
      ],
      "metadata": {
        "id": "kCNTGnWz52r0"
      }
    },
    {
      "cell_type": "code",
      "source": [
        "!groups $USER"
      ],
      "metadata": {
        "id": "H8xiNcpO53FJ"
      },
      "execution_count": null,
      "outputs": []
    },
    {
      "cell_type": "markdown",
      "source": [
        "**Note:** Root user (`root`) always has a UID of 0. UID numbering for normal users starts (by default) at 1000 for Linux. A root user can use the following commands to perform certain user management tasks:\n",
        "\n",
        "| Command | Description                                  |\n",
        "| ------- | :------------------------------------------- |\n",
        "| useradd | Create a new user account                    |\n",
        "| usermod | Modify settings for an existing user account |\n",
        "| userdel | Delete an existing user account              |\n",
        "\n",
        "The following options are commonly used with `useradd`.\n",
        "\n",
        "| Option | Description                                                  |\n",
        "| ------ | :----------------------------------------------------------- |\n",
        "| -m     | Automatically generates the new user’s home directory. By default, the user directory is  created under `/home`. |\n",
        "| -c     | For  comment. It is generally a short description of the login. |\n",
        "| -e     | For  expiration date of the user account (YYYY-MM-DD)        |\n",
        "| -u     | Specifies a custom UID of the new account. If the option is not given, the next available UID is  used. |\n",
        "| -g     | Specifies either the GID or the name of the group            |\n",
        "| -G     | This  option defines any supplementary groups (separated by a comma) the user should be a member of. |\n",
        "\n",
        "For example, run the following command to create a new user, `johndoe`."
      ],
      "metadata": {
        "id": "iny25MyG58bz"
      }
    },
    {
      "cell_type": "code",
      "source": [
        "!sudo useradd -m johndoe -u 9999"
      ],
      "metadata": {
        "id": "kNIQo7ln59IJ"
      },
      "execution_count": null,
      "outputs": []
    },
    {
      "cell_type": "markdown",
      "source": [
        "**Note:** Local user information is stored in the [`/etc/passwd`](https://linuxize.com/post/etc-passwd-file/) file. To view user information, run `cat /etc/passwd`.\n",
        "\n",
        "Next, the `passwd` command is used to establish or change the password of a user account. Then, you will be prompted for a new password and will be asked to confirm it.\n",
        "\n",
        "Now, we will look at file security. In your **proc** directory, type `ls -la` to turn on the long listing format:"
      ],
      "metadata": {
        "id": "1a_0Az4R6OU_"
      }
    },
    {
      "cell_type": "code",
      "source": [
        "!ls -la /content"
      ],
      "metadata": {
        "id": "y8KhE3qk6T_1"
      },
      "execution_count": null,
      "outputs": []
    },
    {
      "cell_type": "markdown",
      "source": [
        "`drwxr-xr-x 1 root root    4096 May  9 13:24 sample_data` is a directory. and `-rw-r--r-- 1 root root 1048576 May 11 13:40 foobar` is a file."
      ],
      "metadata": {
        "id": "mF19_CL460T5"
      }
    },
    {
      "cell_type": "markdown",
      "source": [
        "We will examine the output for better understanding, `-rw-r--r-- 1 root root 1048576 May 11 13:40 foobar`:\n",
        "\n",
        "| Field 1 | Field 2 | Field 3 | Field 4 | Field 5 | Field 6 | Field 7 | Field 8 | Field 9      | Field 10      |\n",
        "| ------- | ------- | ------- | ------- | ------- | ------- | ------- | ------- | ------------ | ------------- |\n",
        "| -       | rw-     | r--     | r--     | 1       | root   | root    | 1048576      | May 11 13:40 | foobar |\n",
        "\n",
        "**Field 1**: **-** for File, **d** for Directory, **l** for link (e.g., create a link for *text_file.txt*: `ln -s text_file.txt link1`)\n",
        "\n",
        "**Field 2, Field 3 and Field 4**\n",
        "\n",
        "Those are the **r**ead, **w**rite and e**x**ecute permissions for *owner*, *group* and *others*:\n",
        "\n",
        "- **Field 2**: The permissions that the **owner/user** has over the file.\n",
        "- **Field 3**: The permissions that the **group** has over the file.\n",
        "- **Field 4**: The permissions that **everybody** (**other**) else has over the file.\n",
        "\n",
        "**Field 5**: This field specifies the number of links / directories inside this directory.\n",
        "\n",
        "**Field 6**: The user that owns the file / directory.\n",
        "\n",
        "**Field 7**: The group which the file belongs to, and any user in that group will have the same permissions as Field 3 over that file.\n",
        "\n",
        "**Field 8**: The file size in bytes.\n",
        "\n",
        "This can be formatted to human readable format with the `-h` option alongside  the `-l` option. This will output the file size in `k`, `M`, `G`.\n",
        "\n",
        "**Field 9**: The last modified date\n",
        "\n",
        "**Field 10**: The name of the file\n"
      ],
      "metadata": {
        "id": "1qd42TLH7gnu"
      }
    },
    {
      "cell_type": "markdown",
      "source": [
        "### Access Rights on Files\n",
        "\n",
        "- r (or -), indicates read permission (or otherwise) to read and copy the file.\n",
        "- w (or -), indicates write permission (or otherwise) to change a file.\n",
        "- x (or -), indicates execution permission (or otherwise) to execute a file.\n",
        "\n",
        "### Access Rights on Directories\n",
        "\n",
        "- r allows users to list files in the directory.\n",
        "- w allows users to delete files from the directory or move files into it.\n",
        "- x allows users to access files in the directory.\n",
        "\n",
        "Hence, to **read** a file, you must have the **execute** permission on the directory containing that file, and on any directory containing that directory as a subdirectory, and so on, up the tree.\n",
        "\n",
        "### Changing Access Rights\n",
        "\n",
        "#### chmod (changing a file mode)\n",
        "\n",
        "Only the owner of a file can use `chmod` to change the permissions of a file. The options of `chmod` are as follows:\n",
        "\n",
        "| Symbol | Meaning                        |\n",
        "| ------ | ------------------------------ |\n",
        "| u      | user                           |\n",
        "| g      | group                          |\n",
        "| o      | other                          |\n",
        "| a      | all                            |\n",
        "| r      | read                           |\n",
        "| w      | write (and delete)             |\n",
        "| x      | execute (and access directory) |\n",
        "| +      | add permission                 |\n",
        "| -      | take away permission           |\n",
        "\n",
        "For example, to **add** *read* and *write* permissions on the file **foobar** for the *group* and *others*, type:"
      ],
      "metadata": {
        "id": "Zh3gELwW8_n-"
      }
    },
    {
      "cell_type": "code",
      "source": [
        "!chmod go+rw foobar"
      ],
      "metadata": {
        "id": "XC_mfW9m7f2-"
      },
      "execution_count": null,
      "outputs": []
    },
    {
      "cell_type": "code",
      "source": [
        "!ls -l /content"
      ],
      "metadata": {
        "id": "_luo_XB57f6w"
      },
      "execution_count": null,
      "outputs": []
    },
    {
      "cell_type": "markdown",
      "source": [
        "## 2.4 Processes and Jobs\n",
        "\n",
        "A process is an executing program identified by a unique PID (process identifier). To view information on your processes, with their PID and status, type:"
      ],
      "metadata": {
        "id": "YYCzKtG896hW"
      }
    },
    {
      "cell_type": "code",
      "source": [
        "!ps"
      ],
      "metadata": {
        "id": "PxLptDBp7f-M"
      },
      "execution_count": null,
      "outputs": []
    },
    {
      "cell_type": "markdown",
      "source": [
        "A process may be in the *foreground*, in the *background*, or *suspended*. In general the shell does not return the prompt until the current process has finished executing. Some processes take a long time to run and may hold up the terminal. Backgrounding a long process has the effect that the prompt is returned immediately, and other tasks can be carried out while the original process continues executing.\n",
        "\n",
        "### Running Background Processes\n",
        "\n",
        "To background a process, type **&** at the end of the command line. For example, the command **sleep** waits for a given number of seconds before continuing. Type:"
      ],
      "metadata": {
        "id": "BF8Bcopa-fyH"
      }
    },
    {
      "cell_type": "code",
      "source": [
        "!sleep 2"
      ],
      "metadata": {
        "id": "C83FV5XQ7XQN"
      },
      "execution_count": null,
      "outputs": []
    },
    {
      "cell_type": "markdown",
      "source": [
        "The terminal will wait for 10 seconds before returning the control back to user. Until the command prompt is returned, you can do nothing except wait.\n",
        "\n",
        "To run sleep in the background, type:"
      ],
      "metadata": {
        "id": "w1OOwzRS-kzM"
      }
    },
    {
      "cell_type": "code",
      "source": [
        "!sleep 10 &"
      ],
      "metadata": {
        "id": "4YGBgoRJ-nc6"
      },
      "execution_count": null,
      "outputs": []
    },
    {
      "cell_type": "markdown",
      "source": [
        "`jobs` lists the jobs that were started in the current shell session and are running in the background, stopped (suspended), or in the foreground. `ps` command is used to display information about all active processes running on the system, not just those started in the current shell session."
      ],
      "metadata": {
        "id": "c9wnqWCY-1nb"
      }
    },
    {
      "cell_type": "code",
      "source": [
        "!ps -ef"
      ],
      "metadata": {
        "id": "zGby8Dxi_IsK"
      },
      "execution_count": null,
      "outputs": []
    },
    {
      "cell_type": "markdown",
      "source": [
        "## 2.5 Other UNIX Commands\n",
        "\n",
        "The `df` command reports on the space left on the file system. For example, to find out how much space is left on the fileserver, type:"
      ],
      "metadata": {
        "id": "lD_FnnkgAbx4"
      }
    },
    {
      "cell_type": "code",
      "source": [
        "!df ."
      ],
      "metadata": {
        "id": "Tv-Bl0njAeX3"
      },
      "execution_count": null,
      "outputs": []
    },
    {
      "cell_type": "markdown",
      "source": [
        "Similarly, you can add a `-h` flag to format the value to human readable format."
      ],
      "metadata": {
        "id": "5C2p_3w-AgPS"
      }
    },
    {
      "cell_type": "code",
      "source": [
        "!df -h ."
      ],
      "metadata": {
        "id": "XrsG7SkGAjJ6"
      },
      "execution_count": null,
      "outputs": []
    },
    {
      "cell_type": "markdown",
      "source": [
        "The `du` command outputs the number of kilobytes used by each subdirectory. Navigate to your `home` directory and type:"
      ],
      "metadata": {
        "id": "Eh1BirT1AlvI"
      }
    },
    {
      "cell_type": "code",
      "source": [
        "!du -s -h *"
      ],
      "metadata": {
        "id": "974UMgKXAnKp"
      },
      "execution_count": null,
      "outputs": []
    },
    {
      "cell_type": "markdown",
      "source": [
        "he `gzip` command reduces the size of a file. For example:"
      ],
      "metadata": {
        "id": "TlMxMY-qAyYa"
      }
    },
    {
      "cell_type": "code",
      "source": [
        "!ls -l -h foobar"
      ],
      "metadata": {
        "id": "J0W3kPCFAy7J"
      },
      "execution_count": null,
      "outputs": []
    },
    {
      "cell_type": "code",
      "source": [
        "!cp foobar new_foobar\n",
        "!gzip new_foobar\n",
        "!ls -l"
      ],
      "metadata": {
        "id": "yVJ1fBepA5eh"
      },
      "execution_count": null,
      "outputs": []
    },
    {
      "cell_type": "markdown",
      "source": [
        "This will compress the file and place it in a file called **new_foorbar.gz**. To see the change in size, type **ls -l** again."
      ],
      "metadata": {
        "id": "b1vLNekoBSem"
      }
    },
    {
      "cell_type": "code",
      "source": [
        "!ls -lh"
      ],
      "metadata": {
        "id": "jyuTWK5BBD2X"
      },
      "execution_count": null,
      "outputs": []
    },
    {
      "cell_type": "markdown",
      "source": [
        "To expand the file, use the `gunzip` command."
      ],
      "metadata": {
        "id": "tjsfFjGpBYzJ"
      }
    },
    {
      "cell_type": "code",
      "source": [
        "!gunzip new_foobar.gz\n",
        "!ls -lh"
      ],
      "metadata": {
        "id": "NikMIyMMBH_K"
      },
      "execution_count": null,
      "outputs": []
    },
    {
      "cell_type": "markdown",
      "source": [
        "The `file` command classifies the named files according to the type of data they contain, for example ascii (text), pictures, compressed data, etc. To report on all files in your home directory, type the following:"
      ],
      "metadata": {
        "id": "QSuSC7faBpFs"
      }
    },
    {
      "cell_type": "code",
      "source": [
        "!file *"
      ],
      "metadata": {
        "id": "LiYFjZT9Bp2k"
      },
      "execution_count": null,
      "outputs": []
    },
    {
      "cell_type": "markdown",
      "source": [
        "The `find` command searches through the directories for files and directories with a given name, date, size, or any other attribute. It has many options and it is a good idea to read the manual with `man find`.\n",
        "\n",
        "To search for all files with the extension **.txt**, starting at the **current directory (.)** and working through all sub-directories, and then printing the name of the file to the screen, type:"
      ],
      "metadata": {
        "id": "OZnP9yiVBwE8"
      }
    },
    {
      "cell_type": "code",
      "source": [
        "!find /content -name \"foobar\" -print"
      ],
      "metadata": {
        "id": "Cu4WW2l_BzY1"
      },
      "execution_count": null,
      "outputs": []
    },
    {
      "cell_type": "markdown",
      "source": [
        "The `find` command searches through the directories for files and directories with a given name, date, size, or any other attribute. It has many options and it is a good idea to read the manual with `man find`.\n",
        "\n",
        "To search for all files with the extension **.txt**, starting at the **current directory (.)** and working through all sub-directories, and then printing the name of the file to the screen, type:\n",
        "\n",
        "```bash\n",
        "find . -name \"*.txt\" -print\n",
        "```\n",
        "\n",
        "To find files over 1kb in size, and display the result as a long listing, type:\n",
        "\n",
        "```bash\n",
        "find . -size +1k -print\n",
        "```\n",
        "\n",
        "The `history` command keeps an ordered list of all the commands that you have entered. Each command is given a number according to the order it was entered.\n",
        "\n",
        "```bash\n",
        "history\n",
        "```\n",
        "\n",
        "To clear the history commands:\n",
        "\n",
        "```bash\n",
        "history -c\n",
        "```"
      ],
      "metadata": {
        "id": "RDQHX9b9Cplm"
      }
    },
    {
      "cell_type": "markdown",
      "source": [
        "## 2.6 The Lifecycle of Manipulating a Remote File\n",
        "\n",
        "### An Example\n",
        "\n",
        "We will download a piece of free software that converts between different units of measurements.\n",
        "\n",
        "At the home directory, create a download directory. Be noted, `rm -rf` removes a file or dir regardless of its existance.\n",
        "\n"
      ],
      "metadata": {
        "id": "lOjwAJJQC2iY"
      }
    },
    {
      "cell_type": "code",
      "source": [
        "%%bash\n",
        "\n",
        "DIR_NAME=\"download\"\n",
        "\n",
        "# Check if the directory exists\n",
        "if [ -d \"$DIR_NAME\" ]; then\n",
        "  # If it exists, remove it\n",
        "  rm -rf \"$DIR_NAME\"\n",
        "  echo \"Removed existing directory: $DIR_NAME\"\n",
        "fi\n",
        "\n",
        "# Create the directory\n",
        "mkdir \"$DIR_NAME\"\n",
        "echo \"Created new directory: $DIR_NAME\""
      ],
      "metadata": {
        "id": "ckLK_jUg03fa"
      },
      "execution_count": null,
      "outputs": []
    },
    {
      "cell_type": "markdown",
      "source": [
        "Download `units-1.74.tar.gz` from [here](http://www.ee.surrey.ac.uk/Teaching/Unix/units-1.74.tar.gz) and move it to the download directory. Most default download folder is Downloads."
      ],
      "metadata": {
        "id": "_qcU_fL_1B42"
      }
    },
    {
      "cell_type": "code",
      "source": [
        "%%bash\n",
        "\n",
        "DIR_NAME=\"download\"\n",
        "\n",
        "# Go to the download dir\n",
        "cd $DIR_NAME\n",
        "\n",
        "# List all files under the dir\n",
        "echo \"list files in current dir:\"\n",
        "\n",
        "# Delete any .gz files\n",
        "rm -rf *.gz\n",
        "\n",
        "# Show the current dir\n",
        "ls -l ./\n",
        "\n",
        "# Show the current working dir\n",
        "echo \"current working dir:\"\n",
        "pwd\n",
        "\n",
        "# Download the file\n",
        "wget http://www.ee.surrey.ac.uk/Teaching/Unix/arc/unixtut.tar.gz -O unixtut.tar.gz"
      ],
      "metadata": {
        "id": "0osDCwtU1hku"
      },
      "execution_count": null,
      "outputs": []
    },
    {
      "cell_type": "markdown",
      "source": [
        "#### Extracting the Source Code\n",
        "\n",
        "Notice that the filename ends with `tar.gz`. The tar command turns several files and directories into one single tar (Tape ARchive) file. This is then compressed using the gzip command (to create a tar.gz file).\n",
        "\n",
        "First unzip the file using the `gunzip` command to create a .tar file.\n",
        "\n",
        "Then extract the contents of the tar (tape archive) file.\n"
      ],
      "metadata": {
        "id": "VPpiH4Ph07Ut"
      }
    },
    {
      "cell_type": "code",
      "source": [
        "%%bash\n",
        "\n",
        "DIR_NAME=\"download\"\n",
        "\n",
        "cd $DIR_NAME\n",
        "\n",
        "# Go to the download dir\n",
        "echo \"list files in current dir:\"\n",
        "ls -l ./unixtut.tar.gz\n",
        "\n",
        "# Check if the file is indeed a gzip file by using the file command:\n",
        "file uknixtut.tar.gz\n",
        "\n",
        "# Unzip to a tar file and extract files from it\n",
        "tar -xzvf unixtut.tar.gz"
      ],
      "metadata": {
        "id": "QZrunyHi2zov"
      },
      "execution_count": null,
      "outputs": []
    },
    {
      "cell_type": "markdown",
      "source": [
        "In `tar -xvf unixtut.tar.gz`\n",
        "\n",
        "> - The `x` flag is used to extract files from an archive.\n",
        "> - The `v` flag (optional) stands for \"verbose\" and provides more detailed output while the extraction process is happening. It shows the names of the files being extracted.\n",
        "> - The `f` flag is used to specify the archive file name.\n",
        "> - So `tar -xvf <archive_name.tar>` extracts the files from the `<archive_name.tar>` archive in the current directory.\n",
        "\n",
        "In `tar -xvzf units-1.74.tar.gz`\n",
        "\n",
        "The `z` flag is used in conjunction with the `x` flag to decompress the archive if it is gzip-compressed. It is used to handle `.tar.gz` or `.tgz` archives."
      ],
      "metadata": {
        "id": "EQ8hRI3139GP"
      }
    },
    {
      "cell_type": "markdown",
      "source": [
        "### Managing Packages\n",
        "\n",
        "Debian and Debian-based Linux distributions use the Debian Package Manager (dpkg) to manage packages. The *advanced package tool* command `apt` is advantageous over `dpkg` because it resolves dependencies and downloads updated software automatically. To download software this command points to a series of software repositories located in the file `/etc/apt/sources.list`. The apt command uses the dpkg program to manage packages.\n",
        "\n",
        "Software installation can be done through the terminal via the command:\n",
        "\n",
        "```bash\n",
        "sudo apt-get install <package>\n",
        "# sudo apt install <package>\n",
        "```\n",
        "\n",
        "> * `apt-get` is the older and more established command-line package management tool.\n",
        ">\n",
        "> * `apt` is a newer command-line package management tool that provides a more user-friendly and simplified interface.\n",
        "\n",
        "Software uninstallation can be done through the terminal via the command:\n",
        "\n",
        "```bash\n",
        "sudo apt-get remove <package>\n",
        "# sudo apt remove <package>\n",
        "```\n",
        "\n",
        "The following table contrasts the traditional command against the apt equivalent commands:\n",
        "\n",
        "| Traditional Command        | apt Equivalent         |\n",
        "| -------------------------- | ---------------------- |\n",
        "| apt-get update             | apt update             |\n",
        "| apt-get dist-upgrade       | apt full-upgrade       |\n",
        "| apt-cache search string    | apt search string      |\n",
        "| apt-get install \\<package> | apt install \\<package> |\n",
        "| apt-get remove \\<package>  | apt remove \\<package>  |\n",
        "| apt-get purge \\<package>   | apt purge \\<package>   |\n",
        "\n",
        "Note: The '*remove*' command only uninstalls a package but its configuration file stays right there. However, with the '*purge*' command, the package along with its configuration file is deleted which means that no traces of that package are left behind in this situation."
      ],
      "metadata": {
        "id": "IcgBMqrs6EXJ"
      }
    },
    {
      "cell_type": "code",
      "source": [
        "# Update the package list\n",
        "!apt-get update"
      ],
      "metadata": {
        "id": "kv6wgHlE6Ice"
      },
      "execution_count": null,
      "outputs": []
    },
    {
      "cell_type": "code",
      "source": [
        "!apt-get remove tree"
      ],
      "metadata": {
        "id": "oLjSGDeR6v0n"
      },
      "execution_count": null,
      "outputs": []
    },
    {
      "cell_type": "markdown",
      "source": [
        "## 2.7 UNIX Variables\n",
        "\n",
        "Standard UNIX variables are split into two categories, environment variables and shell variables. In broad terms, shell variables apply only to the current instance of the shell and are used to set short-term working conditions; environment variables have a farther reaching significance, and those set at login are valid for the duration of the session.\n",
        "\n",
        "### Environment Variables\n",
        "\n",
        "An example of an environment variable is the OSTYPE variable. The value of this is the current operating system you are using. Type:"
      ],
      "metadata": {
        "id": "uQx_uH2K8UsY"
      }
    },
    {
      "cell_type": "code",
      "source": [
        "!echo $OSTYPE"
      ],
      "metadata": {
        "id": "YDwoBev59EcR"
      },
      "execution_count": null,
      "outputs": []
    },
    {
      "cell_type": "markdown",
      "source": [
        "More examples of environment variables are\n",
        "\n",
        "- `SHELL`: This describes the shell that will be interpreting any commands you type in. In most cases, this will be bash by default.\n",
        "- `TERM`: This specifies the type of terminal to emulate when running the shell. Different hardware terminals can be emulated for different operating requirements. You usually won’t need to worry about this though.\n",
        "- `USER`: The current logged in user.\n",
        "- `PWD`: The current working directory.\n",
        "- `OLDPWD`: The previous working directory. This is kept by the shell in order to switch back to your previous directory by running `cd -`.\n",
        "- `LS_COLORS`: This defines color codes that are used to optionally add colored output to the `ls` command. This is used to distinguish different file types and provide more info to the user at a glance.\n",
        "- `MAIL`: The path to the current user’s mailbox.\n",
        "- `PATH`: A list of directories that the system will check when looking for commands. When a user types in a command, the system will check directories in this order for the executable.\n",
        "- `LANG`: The current language and localization settings, including character encoding.\n",
        "- `HOME`: The current user’s home directory.\n",
        "- `_`: The most recent previously executed command.\n",
        "\n",
        "ENVIRONMENT variables are set using the **setenv** command, displayed using the **printenv** or **env** commands, and unset using the **unsetenv** command.\n"
      ],
      "metadata": {
        "id": "CJq6mgu-9Ev9"
      }
    },
    {
      "cell_type": "markdown",
      "source": [
        "### Shell Variables\n",
        "\n",
        "An example of a shell variable is the history variable. The value of this is how many shell commands to save, allow the user to scroll back through all the commands they have previously entered. Type"
      ],
      "metadata": {
        "id": "9Y6lajU-9bgW"
      }
    },
    {
      "cell_type": "code",
      "source": [
        "!echo $BASH_VERSION"
      ],
      "metadata": {
        "id": "jlQRwQGE9a0O"
      },
      "execution_count": null,
      "outputs": []
    },
    {
      "cell_type": "markdown",
      "source": [
        "More examples of shell variables are\n",
        "\n",
        "- `BASHOPTS`: The list of options that were used when bash was executed. This can be useful for finding out if the shell environment will operate in the way you want it to.\n",
        "\n",
        "- `BASH_VERSION`: The version of bash being executed, in human-readable form.\n",
        "\n",
        "- `BASH_VERSINFO`: The version of bash, in machine-readable output.\n",
        "\n",
        "- `COLUMNS`: The number of columns wide that are being used to draw output on the screen.\n",
        "\n",
        "- `DIRSTACK`: The stack of directories that are available with the `pushd` and `popd` commands.\n",
        "\n",
        "- `HISTFILESIZE`: Number of lines of command history stored to a file.\n",
        "\n",
        "- `HISTSIZE`: Number of lines of command history allowed in memory.\n",
        "\n",
        "- `HOSTNAME`: The hostname of the computer at this time.\n",
        "\n",
        "- `IFS`: The internal field separator to separate input on the command line. By default, this is a space.\n",
        "\n",
        "- `PS1`: The primary command prompt definition. This is used to define what your prompt looks like when you start a shell session. The `PS2` is used to declare secondary prompts for when a command spans multiple lines.\n",
        "\n",
        "- `SHELLOPTS`: Shell options that can be set with the `set` option.\n",
        "\n",
        "- `UID`: The UID of the current user."
      ],
      "metadata": {
        "id": "6nUQjSkX9jdy"
      }
    },
    {
      "cell_type": "markdown",
      "source": [
        "### Creating Shell Variables\n",
        "\n",
        "We will begin by defining a shell variable within our current session. Simply specify a name and a value. We’ll adhere to the convention of keeping all caps for the variable name, and set it to a simple string."
      ],
      "metadata": {
        "id": "rP_kWQmJ9mbI"
      }
    },
    {
      "cell_type": "code",
      "source": [
        "%%bash\n",
        "\n",
        "# Creating a variable\n",
        "GREETING=\"Hello, Bash!\"\n",
        "\n",
        "# Printing the variable value\n",
        "echo $GREETING\n",
        "\n",
        "# Exporting a variable\n",
        "export GREETING\n",
        "\n",
        "# Predefined user input\n",
        "COLOR=\"blue\"\n",
        "\n",
        "# Printing the predefined input\n",
        "echo \"Your favorite color is $COLOR\""
      ],
      "metadata": {
        "id": "DoRhXuh-wZMz"
      },
      "execution_count": null,
      "outputs": []
    },
    {
      "cell_type": "markdown",
      "source": [
        "### IDE\n",
        "\n",
        "**vim (Vi IMproved)**\n",
        "\n",
        "\"Vi IMproved,\" is a highly configurable and powerful text editor that is available on various operating systems, including Linux, macOS, and Windows. It is an enhanced version of the original Vi text editor, which was developed in the 1970s.\n",
        "\n",
        "Vim is designed to be lightweight and efficient while offering a wide range of features for editing and manipulating text files. It operates in different modes, allowing users to navigate, edit, and execute commands with keyboard shortcuts.\n",
        "\n",
        "1. Normal mode: The default mode for navigating and executing commands.\n",
        "2. Insert mode: Used for inserting and editing text.\n",
        "3. Visual mode: Enables selecting and manipulating blocks of text.\n",
        "4. Command-line mode: Allows entering editor commands or executing external commands.\n",
        "\n",
        "Vim offers a vast array of features, including syntax highlighting, auto-indentation, search and replace, regular expressions, macros, split-screen editing, and support for numerous programming languages. It also has a plugin system that allows users to extend its functionality further.\n",
        "\n",
        "**nano**\n",
        "\n",
        "It is designed as a simpler alternative to more advanced text editors like Vim or Emacs, making it accessible to both beginner and experienced users.\n",
        "\n",
        "Nano provides a straightforward and intuitive interface with basic editing functionalities. It allows users to create, view, and modify text files directly from the command line or terminal window. Nano supports common operations such as inserting, deleting, copying, and pasting text. It also offers features like search and replace, spell checking, line numbering, and syntax highlighting for various programming languages.\n"
      ],
      "metadata": {
        "id": "1bqKMd67wQJr"
      }
    },
    {
      "cell_type": "markdown",
      "source": [
        "#### Ex. Vim or Nano\n",
        "\n",
        "Create a new bash file `current_time.sh`. We want to run it from Shell and print out current time from the file. For example,\n",
        "\n",
        "```shell\n",
        "vim current_time.sh\n",
        "```\n",
        "\n",
        "The code looks like,\n",
        "\n",
        "```bash\n",
        "#!/bin/bash\n",
        "echo \"Current time: $(date)\"\n",
        "```\n",
        "\n",
        "Within `vim` type `Esc`, `wq` to save the quit. Change its permission to be executable,\n",
        "\n",
        "```shell\n",
        "chmod +x current_time.sh\n",
        "```\n",
        "\n",
        "Run `current_time.sh` from Shell.\n",
        "```shell\n",
        "./current_time.sh\n",
        "```\n",
        "\n",
        "For example, output looks like the below,\n",
        "\n",
        "```shell\n",
        "anneyu@DESKTOP-KMDHETK:~/tmp$ ./current_time.sh\n",
        "Current time: Wed May 15 14:30:53 +08 2024\n",
        "```"
      ],
      "metadata": {
        "id": "OwmTK0Eu68bH"
      }
    },
    {
      "cell_type": "code",
      "source": [
        "%%bash\n",
        "\n",
        "# You can type and run the same code in Jupyter Notebook.\n",
        "# !/bin/bash\n",
        "echo \"Current time: $(date)\""
      ],
      "metadata": {
        "id": "k52PpfiT7QFJ"
      },
      "execution_count": null,
      "outputs": []
    },
    {
      "cell_type": "markdown",
      "source": [
        "## 2.8 A few more common commands\n",
        "\n",
        "To check the user manual of a command `ls`, type `man ls`.\n",
        "\n",
        "To check the number of characters and words of a file, use `wc filename`. For example,"
      ],
      "metadata": {
        "id": "0h434GWT94un"
      }
    },
    {
      "cell_type": "code",
      "source": [
        "!echo \"This is a test file.\" > test.txt\n",
        "!wc test.txt"
      ],
      "metadata": {
        "id": "Sm7UBKkc94LX"
      },
      "execution_count": null,
      "outputs": []
    },
    {
      "cell_type": "markdown",
      "source": [
        "To move an existing file to a name file,"
      ],
      "metadata": {
        "id": "uynSye3T-2hd"
      }
    },
    {
      "cell_type": "code",
      "source": [
        "!mv test.txt new_file.txt"
      ],
      "metadata": {
        "id": "cuQtvZs7-9Na"
      },
      "execution_count": null,
      "outputs": []
    },
    {
      "cell_type": "markdown",
      "source": [
        "To create a new file from existing files. For example,"
      ],
      "metadata": {
        "id": "GLxs9eC9_IzO"
      }
    },
    {
      "cell_type": "code",
      "source": [
        "!echo \"This is a test file.\" > test1.txt\n",
        "!echo \"This is another test file.\" > test2.txt\n",
        "\n",
        "# Cancatenate two files into a new file.\n",
        "!cat test1.txt test2.txt > test3.txt\n",
        "\n",
        "# Show the new file content.\n",
        "!cat test3.txt"
      ],
      "metadata": {
        "id": "XueWeqLn-MnD"
      },
      "execution_count": null,
      "outputs": []
    },
    {
      "cell_type": "markdown",
      "source": [
        "diff two files can use command `diff`,"
      ],
      "metadata": {
        "id": "YxClnQA9BSgt"
      }
    },
    {
      "cell_type": "code",
      "source": [
        "!diff test1.txt test2.txt"
      ],
      "metadata": {
        "id": "mie4g9wFBXDQ"
      },
      "execution_count": null,
      "outputs": []
    },
    {
      "cell_type": "markdown",
      "source": [
        "### Grep for searching within content"
      ],
      "metadata": {
        "id": "J50ZoNDI_kdu"
      }
    },
    {
      "cell_type": "code",
      "source": [
        "!grep \"test\" test3.txt"
      ],
      "metadata": {
        "id": "KGPklQAo_qGs"
      },
      "execution_count": null,
      "outputs": []
    },
    {
      "cell_type": "markdown",
      "source": [
        "Some common usages,\n",
        "\n",
        "* The -i option makes the search case-insensitive.\n",
        "* The -r option enables recursive search within a directory and its subdirectories.\n",
        "* The -n option displays the line numbers along with the matching lines.\n",
        "* The -c option counts the number of lines that contain the matching pattern.\n",
        "* The -v option inverts the match, displaying lines that do not match the pattern.\n",
        "\n",
        "For example,"
      ],
      "metadata": {
        "id": "_VHSgnMbAFGv"
      }
    },
    {
      "cell_type": "code",
      "source": [
        "# Count the number of occurences of unix in the file\n",
        "!grep -c \"unix\" ./download/unixtut/unix8.html\n",
        "\n",
        "# Count and case-insensitive\n",
        "!grep -c -i \"unix\" ./download/unixtut/unix8.html"
      ],
      "metadata": {
        "id": "rkq0w3HdAdno"
      },
      "execution_count": null,
      "outputs": []
    },
    {
      "cell_type": "markdown",
      "source": [
        "### Peak into a data file\n",
        "\n",
        "When given a data file formated as `csv`, run some commands to look at the top and bottom rows."
      ],
      "metadata": {
        "id": "f3BjxX0FBecz"
      }
    },
    {
      "cell_type": "code",
      "source": [
        "# Define the content of the CSV file\n",
        "csv_content = \"\"\"Name,Age,City\n",
        "Alice,30,New York\n",
        "Bob,25,Los Angeles\n",
        "Charlie,35,Chicago\n",
        "Diana,28,Houston\n",
        "Eve,22,Phoenix\n",
        "\"\"\"\n",
        "\n",
        "# Write the content to a file named 'example.csv'\n",
        "with open('example.csv', 'w') as f:\n",
        "    f.write(csv_content)"
      ],
      "metadata": {
        "id": "CKK-PVB-CORi"
      },
      "execution_count": null,
      "outputs": []
    },
    {
      "cell_type": "code",
      "source": [
        "# Display the first few lines of the CSV file\n",
        "!echo \"the top 2 lines: \" & head -n 2 example.csv\n",
        "\n",
        "!echo \"\"\n",
        "\n",
        "# Display the last few lines of the CSV file\n",
        "!echo \"the bottom 2 lines: \" & tail -n 2 example.csv"
      ],
      "metadata": {
        "id": "km1AftdyCjj8"
      },
      "execution_count": null,
      "outputs": []
    },
    {
      "cell_type": "code",
      "source": [
        "%%bash\n",
        "\n",
        "# Calculate the total number of lines\n",
        "total_lines=$(wc -l < example.csv)\n",
        "\n",
        "# Calculate the middle line number\n",
        "middle_line=$(( 1 + (total_lines + 1) / 2 ))\n",
        "\n",
        "# Print the middle line using head and tail\n",
        "head -n $middle_line example.csv | tail -n 1"
      ],
      "metadata": {
        "id": "bEg6h8kGDE4q"
      },
      "execution_count": null,
      "outputs": []
    }
  ]
}